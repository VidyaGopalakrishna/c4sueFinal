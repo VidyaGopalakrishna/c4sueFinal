{
 "cells": [
  {
   "cell_type": "code",
   "execution_count": 1,
   "metadata": {},
   "outputs": [],
   "source": [
    "#Important Dates\n",
    "#Before Harvey = 2016.csv\n",
    "#During Harvey = 2017.csv\n",
    "#After Harvey = 2018.csv\n",
    "#Hurricane Harvey = Aug 17 2017 - Sept 2 2017\n"
   ]
  },
  {
   "cell_type": "code",
   "execution_count": 2,
   "metadata": {},
   "outputs": [
    {
     "ename": "ModuleNotFoundError",
     "evalue": "No module named 'geopandas'",
     "output_type": "error",
     "traceback": [
      "\u001b[0;31m---------------------------------------------------------------------------\u001b[0m",
      "\u001b[0;31mModuleNotFoundError\u001b[0m                       Traceback (most recent call last)",
      "\u001b[0;32m<ipython-input-2-2768a2c7692b>\u001b[0m in \u001b[0;36m<module>\u001b[0;34m\u001b[0m\n\u001b[1;32m      1\u001b[0m \u001b[0;32mimport\u001b[0m \u001b[0mpandas\u001b[0m \u001b[0;32mas\u001b[0m \u001b[0mpd\u001b[0m\u001b[0;34m\u001b[0m\u001b[0;34m\u001b[0m\u001b[0m\n\u001b[1;32m      2\u001b[0m \u001b[0;32mimport\u001b[0m \u001b[0mnumpy\u001b[0m \u001b[0;32mas\u001b[0m \u001b[0mnp\u001b[0m\u001b[0;34m\u001b[0m\u001b[0;34m\u001b[0m\u001b[0m\n\u001b[0;32m----> 3\u001b[0;31m \u001b[0;32mimport\u001b[0m \u001b[0mgeopandas\u001b[0m \u001b[0;32mas\u001b[0m \u001b[0mgpd\u001b[0m\u001b[0;34m\u001b[0m\u001b[0;34m\u001b[0m\u001b[0m\n\u001b[0m\u001b[1;32m      4\u001b[0m \u001b[0;32mimport\u001b[0m \u001b[0mmatplotlib\u001b[0m\u001b[0;34m\u001b[0m\u001b[0;34m\u001b[0m\u001b[0m\n\u001b[1;32m      5\u001b[0m \u001b[0;32mimport\u001b[0m \u001b[0mmatplotlib\u001b[0m\u001b[0;34m.\u001b[0m\u001b[0mpyplot\u001b[0m \u001b[0;32mas\u001b[0m \u001b[0mplt\u001b[0m\u001b[0;34m\u001b[0m\u001b[0;34m\u001b[0m\u001b[0m\n",
      "\u001b[0;31mModuleNotFoundError\u001b[0m: No module named 'geopandas'"
     ]
    }
   ],
   "source": [
    "import pandas as pd\n",
    "import numpy as np\n",
    "import geopandas as gpd \n",
    "import matplotlib \n",
    "import matplotlib.pyplot as plt\n",
    "import seaborn as sns"
   ]
  },
  {
   "cell_type": "code",
   "execution_count": null,
   "metadata": {},
   "outputs": [],
   "source": [
    "df16 = pd.read_excel('2016.xls')\n",
    "df17 = pd.read_excel('2017.xls')\n",
    "df18 = pd.read_excel('2018.xls')"
   ]
  },
  {
   "cell_type": "code",
   "execution_count": null,
   "metadata": {},
   "outputs": [],
   "source": [
    "\n",
    "PersonalIncome16 = pd.DataFrame(df16.loc[df16['LineCode'] == 1],columns=['GeoName', 'data'])\n",
    "Population16 = pd.DataFrame(df16.loc[df16['LineCode'] == 2],columns=['GeoName', 'data'])\n",
    "PerCapita16 = pd.DataFrame(df16.loc[df16['LineCode'] == 3],columns=['GeoName', 'data'])"
   ]
  },
  {
   "cell_type": "code",
   "execution_count": null,
   "metadata": {},
   "outputs": [],
   "source": [
    "PersonalIncome17 = pd.DataFrame(df17.loc[df17['LineCode'] == 1],columns=['GeoName', 'data'])\n",
    "Population17 = pd.DataFrame(df17.loc[df17['LineCode'] == 2],columns=['GeoName', 'data'])\n",
    "PerCapita17 = pd.DataFrame(df17.loc[df17['LineCode'] == 3],columns=['GeoName', 'data'])"
   ]
  },
  {
   "cell_type": "code",
   "execution_count": null,
   "metadata": {},
   "outputs": [],
   "source": [
    "PersonalIncome18 = pd.DataFrame(df18.loc[df18['LineCode'] == 1],columns=['GeoName', 'data'])\n",
    "Population18 = pd.DataFrame(df18.loc[df18['LineCode'] == 2],columns=['GeoName', 'data'])\n",
    "PerCapita18 = pd.DataFrame(df18.loc[df18['LineCode'] == 3],columns=['GeoName', 'data'])"
   ]
  },
  {
   "cell_type": "code",
   "execution_count": null,
   "metadata": {
    "scrolled": true
   },
   "outputs": [],
   "source": [
    "PersonalIncome16.shape\n",
    "PersonalIncome16 = PersonalIncome16[1::]\n",
    "PersonalIncome17 = PersonalIncome17[1::]\n",
    "PersonalIncome18 = PersonalIncome18[1::]\n",
    "\n",
    "Population16 = Population16[1::]\n",
    "Population17 = Population17[1::]\n",
    "Population18 = Population18[1::]\n",
    "\n",
    "PerCapita16 = PerCapita16[1::]\n",
    "PerCapita17 = PerCapita17[1::]\n",
    "PerCapita18 = PerCapita18[1::]"
   ]
  },
  {
   "cell_type": "code",
   "execution_count": null,
   "metadata": {
    "scrolled": true
   },
   "outputs": [],
   "source": [
    "#Personal Income 2016\n",
    "fig,plot = plt.subplots(figsize=(20, 20))\n",
    "width = 2.25\n",
    "ind = np.arange(len(PersonalIncome16.data))\n",
    "plot.bar(PersonalIncome16.GeoName,PersonalIncome16.data, color=\"blue\")\n",
    "plot.set_xticklabels(PersonalIncome16.GeoName,minor=False,fontsize = 20)\n",
    "plt.title(\"Annual Personal Income in each state in 2016\")\n",
    "plt.xlabel('States')\n",
    "plt.ylabel('Millions of Dollars')\n",
    "plt.savefig(\"PersonalIncome16.png\")\n",
    "for i in plot.patches:\n",
    "    # get_x pulls left or right; get_height pushes up or down\n",
    "    plot.text(i.get_x()+.04, i.get_height()+12000, \\\n",
    "            str(round((i.get_height()), 2)), fontsize=36, color='black')"
   ]
  },
  {
   "cell_type": "code",
   "execution_count": null,
   "metadata": {},
   "outputs": [],
   "source": [
    "#Personal Income 2017\n",
    "fig,plot = plt.subplots(figsize=(20, 20))\n",
    "width = 2.25\n",
    "ind = np.arange(len(PersonalIncome17.data))\n",
    "plot.bar(PersonalIncome17.GeoName,PersonalIncome17.data, color=\"blue\")\n",
    "plot.set_xticklabels(PersonalIncome17.GeoName,minor=False,fontsize = 20)\n",
    "plt.title(\"Annual Personal Income in each state in 2017\")\n",
    "plt.xlabel('States')\n",
    "plt.ylabel('Millions of Dollars')\n",
    "plt.savefig(\"PersonalIncome17.png\")\n",
    "for i in plot.patches:\n",
    "    # get_x pulls left or right; get_height pushes up or down\n",
    "    plot.text(i.get_x()+.04, i.get_height()+12000, \\\n",
    "            str(round((i.get_height()), 2)), fontsize=36, color='black')"
   ]
  },
  {
   "cell_type": "code",
   "execution_count": null,
   "metadata": {},
   "outputs": [],
   "source": [
    "#Personal Income 2018\n",
    "fig,plot = plt.subplots(figsize=(20, 20))\n",
    "width = 2.25\n",
    "ind = np.arange(len(PersonalIncome18.data))\n",
    "plot.bar(PersonalIncome18.GeoName,PersonalIncome18.data, color=\"blue\")\n",
    "plot.set_xticklabels(PersonalIncome18.GeoName,minor=False,fontsize = 20)\n",
    "plt.title(\"Annual Personal Income in each state in 2018\")\n",
    "plt.xlabel('States')\n",
    "plt.ylabel('Millions of Dollars')\n",
    "plt.savefig(\"PersonalIncome18.png\")\n",
    "# set individual bar lables using above list\n",
    "for i in plot.patches:\n",
    "    # get_x pulls left or right; get_height pushes up or down\n",
    "    plot.text(i.get_x()+.04, i.get_height()+12000, \\\n",
    "            str(round((i.get_height()), 2)), fontsize=36, color='black')"
   ]
  },
  {
   "cell_type": "code",
   "execution_count": null,
   "metadata": {},
   "outputs": [],
   "source": [
    "#Personal Income Comparisons\n",
    "PI = pd.concat([PersonalIncome16,PersonalIncome17,PersonalIncome18], axis=0, ignore_index=False)\n",
    "PI['Years'] = (len(PersonalIncome16.data)*(2016,) + len(PersonalIncome17.data)*(2017,) + len(PersonalIncome18.data)*(2018,))\n",
    "PI\n",
    "combined = sns.factorplot(x='GeoName', y='data', hue=\"Years\",kind='bar', data=PI)\n",
    "combined.set_axis_labels('States', 'Millions of Dollars')\n",
    "plt.subplots_adjust(top=0.9)\n",
    "combined.fig.suptitle('Total Personal Income over 3 years')\n"
   ]
  },
  {
   "cell_type": "code",
   "execution_count": null,
   "metadata": {},
   "outputs": [],
   "source": [
    "#Population 2016\n",
    "fig,plot = plt.subplots(figsize=(20, 20))\n",
    "width = 2.25\n",
    "ind = np.arange(len(PersonalIncome16.data))\n",
    "plot.bar(PersonalIncome16.GeoName,PersonalIncome16.data, color=\"blue\")\n",
    "plot.set_xticklabels(PersonalIncome16.GeoName,minor=False,fontsize = 20)\n",
    "plt.title(\"Population in each state in 2016\")\n",
    "plt.xlabel('States')\n",
    "plt.ylabel('People')\n",
    "plt.savefig(\"Population16.png\")\n",
    "for i in plot.patches:\n",
    "    # get_x pulls left or right; get_height pushes up or down\n",
    "    plot.text(i.get_x()+.16, i.get_height()+12000, \\\n",
    "            str(round((i.get_height()), 2)), fontsize=36, color='black')"
   ]
  },
  {
   "cell_type": "code",
   "execution_count": null,
   "metadata": {},
   "outputs": [],
   "source": [
    "#Population 2017\n",
    "fig,plot = plt.subplots(figsize=(20, 20))\n",
    "width = 2.25\n",
    "ind = np.arange(len(Population17.data))\n",
    "plot.bar(Population17.GeoName,Population17.data, color=\"blue\")\n",
    "plot.set_xticklabels(Population17.GeoName,minor=False,fontsize = 20)\n",
    "plt.title(\"Population in each state in 2017\")\n",
    "plt.xlabel('States')\n",
    "plt.ylabel('Population')\n",
    "plt.savefig(\"Population17.png\")\n",
    "for i in plot.patches:\n",
    "    # get_x pulls left or right; get_height pushes up or down\n",
    "    plot.text(i.get_x()+.04, i.get_height()+12000, \\\n",
    "            str(round((i.get_height()), 2)), fontsize=36, color='black')"
   ]
  },
  {
   "cell_type": "code",
   "execution_count": null,
   "metadata": {},
   "outputs": [],
   "source": [
    "#Population 2018\n",
    "fig,plot = plt.subplots(figsize=(20, 20))\n",
    "width = 2.25\n",
    "ind = np.arange(len(Population18.data))\n",
    "plot.bar(Population18.GeoName,Population18.data, color=\"blue\")\n",
    "plot.set_xticklabels(Population18.GeoName,minor=False,fontsize = 20)\n",
    "plt.title(\"Population in each state in 2018\")\n",
    "plt.xlabel('States')\n",
    "plt.ylabel('People')\n",
    "plt.savefig(\"Population18.png\")\n",
    "# set individual bar lables using above list\n",
    "for i in plot.patches:\n",
    "    # get_x pulls left or right; get_height pushes up or down\n",
    "    plot.text(i.get_x()+.04, i.get_height()+12000, \\\n",
    "            str(round((i.get_height()), 2)), fontsize=36, color='black')"
   ]
  },
  {
   "cell_type": "code",
   "execution_count": null,
   "metadata": {},
   "outputs": [],
   "source": [
    "#Population Comparisons\n",
    "PI = pd.concat([Population16,Population17,Population18], axis=0, ignore_index=False)\n",
    "PI['Years'] = (len(Population16.data)*(2016,) + len(Population17.data)*(2017,) + len(Population18.data)*(2018,))\n",
    "PI\n",
    "combined = sns.factorplot(x='GeoName', y='data', hue=\"Years\",kind='bar', data=PI)\n",
    "combined.set_axis_labels('States', 'People')\n",
    "plt.subplots_adjust(top=0.9)\n",
    "combined.fig.suptitle('Population over 3 years')\n",
    "\n"
   ]
  },
  {
   "cell_type": "code",
   "execution_count": null,
   "metadata": {},
   "outputs": [],
   "source": [
    "#Income Per Capita 2016\n",
    "fig,plot = plt.subplots(figsize=(20, 20))\n",
    "width = 2.25\n",
    "ind = np.arange(len(PerCapita16.data))\n",
    "plot.bar(PerCapita16.GeoName,PerCapita16.data, color=\"blue\")\n",
    "plot.set_xticklabels(PerCapita16.GeoName,minor=False,fontsize = 20)\n",
    "plt.title(\"Per Capita Personal Income in each state in 2016\")\n",
    "plt.xlabel('States')\n",
    "plt.ylabel('Dollars')\n",
    "plt.savefig(\"PerCapita16.png\")\n",
    "for i in plot.patches:\n",
    "    # get_x pulls left or right; get_height pushes up or down\n",
    "    plot.text(i.get_x()+.04, i.get_height()+200, \\\n",
    "            str(round((i.get_height()), 2)), fontsize=36, color='black')"
   ]
  },
  {
   "cell_type": "code",
   "execution_count": null,
   "metadata": {},
   "outputs": [],
   "source": [
    "#Income Per Capita 2017\n",
    "fig,plot = plt.subplots(figsize=(20, 20))\n",
    "width = 2.25\n",
    "ind = np.arange(len(PerCapita17.data))\n",
    "plot.bar(PerCapita17.GeoName,PerCapita17.data, color=\"blue\")\n",
    "plot.set_xticklabels(PerCapita17.GeoName,minor=False,fontsize = 20)\n",
    "plt.title(\"Annual Personal Income in each state in 2017\")\n",
    "plt.xlabel('States')\n",
    "plt.ylabel('Dollars')\n",
    "plt.savefig(\"PerCapita17.png\")\n",
    "# set individual bar lables using above list\n",
    "for i in plot.patches:\n",
    "    # get_x pulls left or right; get_height pushes up or down\n",
    "    plot.text(i.get_x()+.04, i.get_height()+200, \\\n",
    "            str(round((i.get_height()), 2)), fontsize=36, color='black')"
   ]
  },
  {
   "cell_type": "code",
   "execution_count": null,
   "metadata": {},
   "outputs": [],
   "source": [
    "#Income Per Capita 2018\n",
    "fig,plot = plt.subplots(figsize=(20, 20))\n",
    "width = 2.25\n",
    "ind = np.arange(len(PerCapita18.data))\n",
    "plot.bar(PerCapita18.GeoName,PerCapita18.data, color=\"blue\")\n",
    "plot.set_xticklabels(PerCapita18.GeoName,minor=False,fontsize = 20)\n",
    "plt.title(\"Annual Personal Income in each state in 2018\")\n",
    "plt.xlabel('States')\n",
    "plt.ylabel('Dollars')\n",
    "plt.savefig(\"PerCapita18.png\")\n",
    "# set individual bar lables using above list\n",
    "for i in plot.patches:\n",
    "    # get_x pulls left or right; get_height pushes up or down\n",
    "    plot.text(i.get_x()+.04, i.get_height()+200, \\\n",
    "            str(round((i.get_height()), 2)), fontsize=36, color='black')"
   ]
  },
  {
   "cell_type": "code",
   "execution_count": null,
   "metadata": {},
   "outputs": [],
   "source": [
    "#Income Per Capita Comparisons\n",
    "PI = pd.concat([PerCapita16,PerCapita17,PerCapita18], axis=0, ignore_index=False)\n",
    "PI['Years'] = (len(PerCapita16.data)*(2016,) + len(PerCapita17.data)*(2017,) + len(PerCapita18.data)*(2018,))\n",
    "PI\n",
    "combined = sns.factorplot(x='GeoName', y='data', hue=\"Years\",kind='bar', data=PI)\n",
    "combined.set_axis_labels('States', 'Dollars')\n",
    "plt.subplots_adjust(top=0.9)\n",
    "combined.fig.suptitle('Personal Income per Capita over 3 years')\n",
    "\n"
   ]
  }
 ],
 "metadata": {
  "kernelspec": {
   "display_name": "Python 3",
   "language": "python",
   "name": "python3"
  },
  "language_info": {
   "codemirror_mode": {
    "name": "ipython",
    "version": 3
   },
   "file_extension": ".py",
   "mimetype": "text/x-python",
   "name": "python",
   "nbconvert_exporter": "python",
   "pygments_lexer": "ipython3",
   "version": "3.7.4"
  }
 },
 "nbformat": 4,
 "nbformat_minor": 4
}
